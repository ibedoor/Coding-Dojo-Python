{
  "nbformat": 4,
  "nbformat_minor": 0,
  "metadata": {
    "colab": {
      "name": "upload_dataset_kaggle.ipynb",
      "provenance": [],
      "authorship_tag": "ABX9TyPdDzhcpeqaQG4ac1W/gDiG",
      "include_colab_link": true
    },
    "kernelspec": {
      "name": "python3",
      "display_name": "Python 3"
    }
  },
  "cells": [
    {
      "cell_type": "markdown",
      "metadata": {
        "id": "view-in-github",
        "colab_type": "text"
      },
      "source": [
        "<a href=\"https://colab.research.google.com/github/ibedoor/Coding-Dojo-Python/blob/main/upload_dataset_kaggle.ipynb\" target=\"_parent\"><img src=\"https://colab.research.google.com/assets/colab-badge.svg\" alt=\"Open In Colab\"/></a>"
      ]
    },
    {
      "cell_type": "markdown",
      "metadata": {
        "id": "fimwS3mCavcE"
      },
      "source": [
        "Import Libraries"
      ]
    },
    {
      "cell_type": "code",
      "metadata": {
        "id": "Co0_cTHgRPZ4"
      },
      "source": [
        "import pandas as pd\r\n",
        "import numpy as np\r\n",
        "import matplotlib.pyplot as plt\r\n",
        "import seaborn as sns"
      ],
      "execution_count": 15,
      "outputs": []
    },
    {
      "cell_type": "markdown",
      "metadata": {
        "id": "7TBb4y0-Z5L8"
      },
      "source": [
        "Install Kaggle"
      ]
    },
    {
      "cell_type": "code",
      "metadata": {
        "id": "IHcg84gDOsig"
      },
      "source": [
        "!pip install -q kaggle"
      ],
      "execution_count": 1,
      "outputs": []
    },
    {
      "cell_type": "markdown",
      "metadata": {
        "id": "eZgdqc8aZ-tt"
      },
      "source": [
        "Import Files"
      ]
    },
    {
      "cell_type": "code",
      "metadata": {
        "id": "dht9GJT0P_eF"
      },
      "source": [
        "from google.colab import files"
      ],
      "execution_count": 5,
      "outputs": []
    },
    {
      "cell_type": "markdown",
      "metadata": {
        "id": "JB6BdGHpaBic"
      },
      "source": [
        "Run to upload File"
      ]
    },
    {
      "cell_type": "code",
      "metadata": {
        "colab": {
          "resources": {
            "http://localhost:8080/nbextensions/google.colab/files.js": {
              "data": "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",
              "ok": true,
              "headers": [
                [
                  "content-type",
                  "application/javascript"
                ]
              ],
              "status": 200,
              "status_text": ""
            }
          },
          "base_uri": "https://localhost:8080/",
          "height": 89
        },
        "id": "QZKDJnP-QG-C",
        "outputId": "76bb8899-e8fc-47c9-c8ce-6e619e06c72e"
      },
      "source": [
        "# choose kaggle.json\r\n",
        "files.upload()"
      ],
      "execution_count": 27,
      "outputs": [
        {
          "output_type": "display_data",
          "data": {
            "text/html": [
              "\n",
              "     <input type=\"file\" id=\"files-02bdf47a-5cd1-45b2-8050-21036fdbadbc\" name=\"files[]\" multiple disabled\n",
              "        style=\"border:none\" />\n",
              "     <output id=\"result-02bdf47a-5cd1-45b2-8050-21036fdbadbc\">\n",
              "      Upload widget is only available when the cell has been executed in the\n",
              "      current browser session. Please rerun this cell to enable.\n",
              "      </output>\n",
              "      <script src=\"/nbextensions/google.colab/files.js\"></script> "
            ],
            "text/plain": [
              "<IPython.core.display.HTML object>"
            ]
          },
          "metadata": {
            "tags": []
          }
        },
        {
          "output_type": "stream",
          "text": [
            "Saving kaggle.json to kaggle.json\n"
          ],
          "name": "stdout"
        },
        {
          "output_type": "execute_result",
          "data": {
            "text/plain": [
              "{'kaggle.json': b'{\"username\":\"bedooralharbi\",\"key\":\"6e22b509f58439b84385a6babda8e35a\"}'}"
            ]
          },
          "metadata": {
            "tags": []
          },
          "execution_count": 27
        }
      ]
    },
    {
      "cell_type": "markdown",
      "metadata": {
        "id": "b4206GSyaGHn"
      },
      "source": [
        "Make Directory"
      ]
    },
    {
      "cell_type": "code",
      "metadata": {
        "id": "4QVVMUVgPqha"
      },
      "source": [
        "!mkdir -p ~/.kaggle"
      ],
      "execution_count": 28,
      "outputs": []
    },
    {
      "cell_type": "markdown",
      "metadata": {
        "id": "NovScoQZaSZk"
      },
      "source": [
        "Save `kaggle.json` File in `kaggle` Folder"
      ]
    },
    {
      "cell_type": "code",
      "metadata": {
        "id": "PJd-Am7KPxrP"
      },
      "source": [
        "!cp kaggle.json ~/.kaggle/"
      ],
      "execution_count": 29,
      "outputs": []
    },
    {
      "cell_type": "code",
      "metadata": {
        "id": "IeQoRf7KQ9jA"
      },
      "source": [
        "!chmod 600 ~/.kaggle/kaggle.json"
      ],
      "execution_count": 31,
      "outputs": []
    },
    {
      "cell_type": "markdown",
      "metadata": {
        "id": "mdJvcxn5b59V"
      },
      "source": [
        "Display Datasets"
      ]
    },
    {
      "cell_type": "code",
      "metadata": {
        "colab": {
          "base_uri": "https://localhost:8080/"
        },
        "id": "SGOiI-4BVwig",
        "outputId": "6ca1a744-8c47-4134-d652-1288a8658fc3"
      },
      "source": [
        "!kaggle datasets list"
      ],
      "execution_count": 32,
      "outputs": [
        {
          "output_type": "stream",
          "text": [
            "Warning: Looks like you're using an outdated API Version, please consider updating (server 1.5.10 / client 1.5.4)\n",
            "ref                                                           title                                                size  lastUpdated          downloadCount  \n",
            "------------------------------------------------------------  --------------------------------------------------  -----  -------------------  -------------  \n",
            "utkarshxy/who-worldhealth-statistics-2020-complete            World Health Statistics 2020|Complete|Geo-Analysis    1MB  2021-01-14 18:29:44           3100  \n",
            "gpreda/pfizer-vaccine-tweets                                  Pfizer Vaccine Tweets                               562KB  2021-01-14 15:05:55           1939  \n",
            "arashnic/covid19-case-surveillance-public-use-dataset         Covid-19 Case Surveillance Public Use Dataset        46MB  2020-12-21 02:24:21           1599  \n",
            "ashkhagan/women-representation-in-city-property-sanfrancisco  Women Representation in City Property SanFrancisco    3KB  2020-12-13 05:18:14            457  \n",
            "google/android-smartphones-high-accuracy-datasets             Android smartphones high accuracy GNSS datasets       1GB  2020-12-23 01:51:11            459  \n",
            "rowhitswami/all-indian-companies-registration-data-1900-2019  Indian Companies Registration Data [1857 - 2020]    112MB  2020-12-12 03:59:01            504  \n",
            "arashnic/mind-news-dataset                                    MIND: Microsoft News Recommendation Dataset          51MB  2020-12-21 00:22:50            180  \n",
            "sakshigoyal7/credit-card-customers                            Credit Card customers                               379KB  2020-11-19 07:38:44          16652  \n",
            "arashnic/hr-analytics-job-change-of-data-scientists           HR Analytics: Job Change of Data Scientists         295KB  2020-12-07 00:25:10           3565  \n",
            "sootersaalu/amazon-top-50-bestselling-books-2009-2019         Amazon Top 50 Bestselling Books 2009 - 2019          15KB  2020-10-13 09:39:21          13066  \n",
            "yamaerenay/spotify-dataset-19212020-160k-tracks               Spotify Dataset 1921-2020, 160k+ Tracks              16MB  2020-11-25 21:14:12          15291  \n",
            "mrmorj/dataset-of-songs-in-spotify                            Dataset of songs in Spotify                           3MB  2020-12-06 09:46:55           1678  \n",
            "google/tinyquickdraw                                          QuickDraw Sketches                                   11GB  2018-04-18 19:38:04           2719  \n",
            "datasnaek/youtube-new                                         Trending YouTube Video Statistics                   201MB  2019-06-03 00:56:47         123578  \n",
            "zynicide/wine-reviews                                         Wine Reviews                                         51MB  2017-11-27 17:08:04         125433  \n",
            "datasnaek/chess                                               Chess Game Dataset (Lichess)                          3MB  2017-09-04 03:09:09          13472  \n",
            "rtatman/188-million-us-wildfires                              1.88 Million US Wildfires                           168MB  2020-05-12 21:03:49          12471  \n",
            "residentmario/ramen-ratings                                   Ramen Ratings                                        40KB  2018-01-11 16:04:39          18657  \n",
            "nasa/kepler-exoplanet-search-results                          Kepler Exoplanet Search Results                       1MB  2017-10-10 18:26:59           5603  \n",
            "jpmiller/publicassistance                                     US Public Food Assistance                           703KB  2020-08-21 16:51:18          10189  \n"
          ],
          "name": "stdout"
        }
      ]
    },
    {
      "cell_type": "markdown",
      "metadata": {
        "id": "ei4mhZ-6cB5F"
      },
      "source": [
        "Download your Dataset, get it from Copy API Command"
      ]
    },
    {
      "cell_type": "code",
      "metadata": {
        "colab": {
          "base_uri": "https://localhost:8080/"
        },
        "id": "_h_sVHvRfwGg",
        "outputId": "a35baa01-a29f-413b-d8d1-a8855d763bbe"
      },
      "source": [
        "!kaggle datasets download -d jhosn13/tiktok-video-comments-david-dobriks-top-videos"
      ],
      "execution_count": 84,
      "outputs": [
        {
          "output_type": "stream",
          "text": [
            "Downloading tiktok-video-comments-david-dobriks-top-videos.zip to /content\n",
            " 29% 9.00M/31.4M [00:00<00:00, 55.7MB/s]\n",
            "100% 31.4M/31.4M [00:00<00:00, 125MB/s] \n"
          ],
          "name": "stdout"
        }
      ]
    },
    {
      "cell_type": "code",
      "metadata": {
        "colab": {
          "base_uri": "https://localhost:8080/"
        },
        "id": "PfCXefbkYir4",
        "outputId": "4602bab4-b8ca-4536-9293-2ccb2b3a93f4"
      },
      "source": [
        "!ls"
      ],
      "execution_count": 85,
      "outputs": [
        {
          "output_type": "stream",
          "text": [
            "'FIFA-21 Complete.csv'\t sample_data\n",
            " final_data.csv\t\t tiktok-video-comments-david-dobriks-top-videos.zip\n",
            " kaggle_dataset\t\t YoutubeMostPopularInUS_TR_FR_DE.csv\n",
            " kaggle.json\n"
          ],
          "name": "stdout"
        }
      ]
    },
    {
      "cell_type": "markdown",
      "metadata": {
        "id": "oWi7TtroZwhb"
      },
      "source": [
        "Unzip Dataset"
      ]
    },
    {
      "cell_type": "code",
      "metadata": {
        "colab": {
          "base_uri": "https://localhost:8080/"
        },
        "id": "eUwjcMEmjASg",
        "outputId": "45a9de14-1e28-4b67-83ad-6d662a994729"
      },
      "source": [
        "!unzip \\*.zip && rm *.zip"
      ],
      "execution_count": 75,
      "outputs": [
        {
          "output_type": "stream",
          "text": [
            "Archive:  tiktok-video-comments-david-dobriks-top-videos.zip\n",
            "  inflating: final_data.csv          \n"
          ],
          "name": "stdout"
        }
      ]
    },
    {
      "cell_type": "markdown",
      "metadata": {
        "id": "btwxPi_9kvRe"
      },
      "source": [
        "Read Dataset"
      ]
    },
    {
      "cell_type": "code",
      "metadata": {
        "colab": {
          "base_uri": "https://localhost:8080/"
        },
        "id": "81XkEXndjCnq",
        "outputId": "441073f0-b07a-4057-c4bc-98098ce65b29"
      },
      "source": [
        "tiktok = pd.read_csv('final_data.csv')"
      ],
      "execution_count": 87,
      "outputs": [
        {
          "output_type": "stream",
          "text": [
            "/usr/local/lib/python3.6/dist-packages/IPython/core/interactiveshell.py:2718: DtypeWarning: Columns (11) have mixed types.Specify dtype option on import or set low_memory=False.\n",
            "  interactivity=interactivity, compiler=compiler, result=result)\n"
          ],
          "name": "stderr"
        }
      ]
    },
    {
      "cell_type": "markdown",
      "metadata": {
        "id": "31daeCIWk0Mv"
      },
      "source": [
        "Create DataFrame"
      ]
    },
    {
      "cell_type": "code",
      "metadata": {
        "colab": {
          "base_uri": "https://localhost:8080/",
          "height": 898
        },
        "id": "kdT97kS0jS6S",
        "outputId": "b665bdca-0fe1-4cce-e0c1-3ac3c43d7638"
      },
      "source": [
        "df = pd.DataFrame(tiktok)\r\n",
        "df"
      ],
      "execution_count": 88,
      "outputs": [
        {
          "output_type": "execute_result",
          "data": {
            "text/html": [
              "<div>\n",
              "<style scoped>\n",
              "    .dataframe tbody tr th:only-of-type {\n",
              "        vertical-align: middle;\n",
              "    }\n",
              "\n",
              "    .dataframe tbody tr th {\n",
              "        vertical-align: top;\n",
              "    }\n",
              "\n",
              "    .dataframe thead th {\n",
              "        text-align: right;\n",
              "    }\n",
              "</style>\n",
              "<table border=\"1\" class=\"dataframe\">\n",
              "  <thead>\n",
              "    <tr style=\"text-align: right;\">\n",
              "      <th></th>\n",
              "      <th>comment_id</th>\n",
              "      <th>text</th>\n",
              "      <th>video_id</th>\n",
              "      <th>create_time</th>\n",
              "      <th>like_count</th>\n",
              "      <th>status</th>\n",
              "      <th>author.unique_id</th>\n",
              "      <th>author.nickname</th>\n",
              "      <th>author.is_private</th>\n",
              "      <th>author.language</th>\n",
              "      <th>author.signature</th>\n",
              "      <th>author.custom_verify</th>\n",
              "      <th>author.uid</th>\n",
              "      <th>author.sec_uid</th>\n",
              "      <th>author.avatar_thumb</th>\n",
              "      <th>author.region</th>\n",
              "      <th>author.ins_id</th>\n",
              "      <th>author.youtube_channel_title</th>\n",
              "      <th>author.youtube_channel_id</th>\n",
              "      <th>author.twitter_id</th>\n",
              "    </tr>\n",
              "  </thead>\n",
              "  <tbody>\n",
              "    <tr>\n",
              "      <th>0</th>\n",
              "      <td>6816879848683438085</td>\n",
              "      <td>But are you giving him a Tesla? Because he des...</td>\n",
              "      <td>6816821384652557574</td>\n",
              "      <td>1587178528</td>\n",
              "      <td>161</td>\n",
              "      <td>1</td>\n",
              "      <td>lissettecalv</td>\n",
              "      <td>Lissette | Influencer Coach</td>\n",
              "      <td>False</td>\n",
              "      <td>en</td>\n",
              "      <td>How to BUILD &amp; MONETIZE a digital biz with pur...</td>\n",
              "      <td>Verified account</td>\n",
              "      <td>133202372536832000</td>\n",
              "      <td>MS4wLjABAAAAbX7SywQS04x1ilOoKHrpTZqhQ6lD32nRC6...</td>\n",
              "      <td>https://p77-sign-sg.tiktokcdn.com/musically-ma...</td>\n",
              "      <td>US</td>\n",
              "      <td>lissettecalv</td>\n",
              "      <td>NaN</td>\n",
              "      <td>NaN</td>\n",
              "      <td>NaN</td>\n",
              "    </tr>\n",
              "    <tr>\n",
              "      <th>1</th>\n",
              "      <td>6816846992812015622</td>\n",
              "      <td>David was just hoping for some help 😢</td>\n",
              "      <td>6816821384652557574</td>\n",
              "      <td>1587170875</td>\n",
              "      <td>1165</td>\n",
              "      <td>1</td>\n",
              "      <td>hellomyfriend0_o</td>\n",
              "      <td>Isaac micallef</td>\n",
              "      <td>True</td>\n",
              "      <td>en</td>\n",
              "      <td>In bed watching Tiktok video's 😴</td>\n",
              "      <td>NaN</td>\n",
              "      <td>6744596691107824645</td>\n",
              "      <td>MS4wLjABAAAADslkcxnt1mqt2oQwQEK8d0ybBHPuCO-geV...</td>\n",
              "      <td>https://p77-sign-sg.tiktokcdn.com/musically-ma...</td>\n",
              "      <td>MT</td>\n",
              "      <td>NaN</td>\n",
              "      <td>NaN</td>\n",
              "      <td>NaN</td>\n",
              "      <td>NaN</td>\n",
              "    </tr>\n",
              "    <tr>\n",
              "      <th>2</th>\n",
              "      <td>6816942564911628294</td>\n",
              "      <td>We ain’t forgot that time he tricked us all in...</td>\n",
              "      <td>6816821384652557574</td>\n",
              "      <td>1587193131</td>\n",
              "      <td>249</td>\n",
              "      <td>1</td>\n",
              "      <td>briancarrion_</td>\n",
              "      <td>Briancarrion</td>\n",
              "      <td>False</td>\n",
              "      <td>en</td>\n",
              "      <td>Might make you cringe 🤷🏽‍♂️\\n🇻🇪</td>\n",
              "      <td>Verified account</td>\n",
              "      <td>2165547</td>\n",
              "      <td>MS4wLjABAAAAKH09hef-gLcTyrzYygfGHMazAhFaLMML7-...</td>\n",
              "      <td>https://p16-sign-sg.tiktokcdn.com/musically-ma...</td>\n",
              "      <td>US</td>\n",
              "      <td>brian.carrion_</td>\n",
              "      <td>NaN</td>\n",
              "      <td>NaN</td>\n",
              "      <td>NaN</td>\n",
              "    </tr>\n",
              "    <tr>\n",
              "      <th>3</th>\n",
              "      <td>6816824764519301125</td>\n",
              "      <td>get him a tesla</td>\n",
              "      <td>6816821384652557574</td>\n",
              "      <td>1587165700</td>\n",
              "      <td>4038</td>\n",
              "      <td>1</td>\n",
              "      <td>slumpgodkayy</td>\n",
              "      <td>kaykay the slumpgod</td>\n",
              "      <td>False</td>\n",
              "      <td>en</td>\n",
              "      <td>👻:@ kaykayyishere\\nfollow my instagram💖</td>\n",
              "      <td>NaN</td>\n",
              "      <td>6586423495932313605</td>\n",
              "      <td>MS4wLjABAAAAI1dyIIb3qlBf3LhqS3-OJITdYuc3OcWlsd...</td>\n",
              "      <td>https://p16-sign-sg.tiktokcdn.com/musically-ma...</td>\n",
              "      <td>US</td>\n",
              "      <td>kaylemraley</td>\n",
              "      <td>NaN</td>\n",
              "      <td>NaN</td>\n",
              "      <td>NaN</td>\n",
              "    </tr>\n",
              "    <tr>\n",
              "      <th>4</th>\n",
              "      <td>6816821633249001477</td>\n",
              "      <td>david ur so hung</td>\n",
              "      <td>6816821384652557574</td>\n",
              "      <td>1587164971</td>\n",
              "      <td>100</td>\n",
              "      <td>1</td>\n",
              "      <td>_4den</td>\n",
              "      <td>dad</td>\n",
              "      <td>False</td>\n",
              "      <td>en</td>\n",
              "      <td>x kinda fell off</td>\n",
              "      <td>NaN</td>\n",
              "      <td>6740418744587650054</td>\n",
              "      <td>MS4wLjABAAAAykXQ0pVI4w-y3kI1omvYzOH2xnJN0iP3lf...</td>\n",
              "      <td>https://p77-sign-sg.tiktokcdn.com/tos-maliva-a...</td>\n",
              "      <td>US</td>\n",
              "      <td>_4den</td>\n",
              "      <td>aden burgess</td>\n",
              "      <td>UCe3pSCjGls_hByctWn91rqw</td>\n",
              "      <td>NaN</td>\n",
              "    </tr>\n",
              "    <tr>\n",
              "      <th>...</th>\n",
              "      <td>...</td>\n",
              "      <td>...</td>\n",
              "      <td>...</td>\n",
              "      <td>...</td>\n",
              "      <td>...</td>\n",
              "      <td>...</td>\n",
              "      <td>...</td>\n",
              "      <td>...</td>\n",
              "      <td>...</td>\n",
              "      <td>...</td>\n",
              "      <td>...</td>\n",
              "      <td>...</td>\n",
              "      <td>...</td>\n",
              "      <td>...</td>\n",
              "      <td>...</td>\n",
              "      <td>...</td>\n",
              "      <td>...</td>\n",
              "      <td>...</td>\n",
              "      <td>...</td>\n",
              "      <td>...</td>\n",
              "    </tr>\n",
              "    <tr>\n",
              "      <th>165105</th>\n",
              "      <td>6831297427954581509</td>\n",
              "      <td>Sup I’m early</td>\n",
              "      <td>6831297085137095942</td>\n",
              "      <td>1590535380</td>\n",
              "      <td>8</td>\n",
              "      <td>1</td>\n",
              "      <td>dylannn_44</td>\n",
              "      <td>Dylan</td>\n",
              "      <td>False</td>\n",
              "      <td>en</td>\n",
              "      <td>Idk why I’m one this app still</td>\n",
              "      <td>NaN</td>\n",
              "      <td>6791792671733138438</td>\n",
              "      <td>MS4wLjABAAAAmFpqJUMC3x-JSU-6rMppK2lo0woTjbA6zn...</td>\n",
              "      <td>https://p16-sign-va.tiktokcdn.com/tos-maliva-a...</td>\n",
              "      <td>US</td>\n",
              "      <td>NaN</td>\n",
              "      <td>NaN</td>\n",
              "      <td>NaN</td>\n",
              "      <td>NaN</td>\n",
              "    </tr>\n",
              "    <tr>\n",
              "      <th>165106</th>\n",
              "      <td>6831297361822711814</td>\n",
              "      <td>￼￼</td>\n",
              "      <td>6831297085137095942</td>\n",
              "      <td>1590535364</td>\n",
              "      <td>8</td>\n",
              "      <td>1</td>\n",
              "      <td>bartaintnosimpson</td>\n",
              "      <td>Swervz</td>\n",
              "      <td>False</td>\n",
              "      <td>en</td>\n",
              "      <td>16 🇵🇱</td>\n",
              "      <td>NaN</td>\n",
              "      <td>6609698955666849798</td>\n",
              "      <td>MS4wLjABAAAA95jNX3KPhg-W6altflOh1HYrxeJIrAdaw_...</td>\n",
              "      <td>https://p16-sign-va.tiktokcdn.com/musically-ma...</td>\n",
              "      <td>GB</td>\n",
              "      <td>NaN</td>\n",
              "      <td>Swervz</td>\n",
              "      <td>UCyIJ9P3_FRuBNwQWTuhitsQ</td>\n",
              "      <td>NaN</td>\n",
              "    </tr>\n",
              "    <tr>\n",
              "      <th>165107</th>\n",
              "      <td>6831297275164868613</td>\n",
              "      <td>Ayeeee</td>\n",
              "      <td>6831297085137095942</td>\n",
              "      <td>1590535344</td>\n",
              "      <td>8</td>\n",
              "      <td>1</td>\n",
              "      <td>glock23likemike</td>\n",
              "      <td>CookieS</td>\n",
              "      <td>True</td>\n",
              "      <td>en</td>\n",
              "      <td>NaN</td>\n",
              "      <td>NaN</td>\n",
              "      <td>6722284375361356805</td>\n",
              "      <td>MS4wLjABAAAA65x9QjdnOWJXuZuDyRLUGCg8CICNET5ZYs...</td>\n",
              "      <td>https://p16-sign-va.tiktokcdn.com/tos-maliva-a...</td>\n",
              "      <td>US</td>\n",
              "      <td>NaN</td>\n",
              "      <td>NaN</td>\n",
              "      <td>NaN</td>\n",
              "      <td>NaN</td>\n",
              "    </tr>\n",
              "    <tr>\n",
              "      <th>165108</th>\n",
              "      <td>6842810518533652485</td>\n",
              "      <td>neta yo lo tuve pero no sabia jajaja 😂</td>\n",
              "      <td>6831297085137095942</td>\n",
              "      <td>1593215979</td>\n",
              "      <td>7</td>\n",
              "      <td>1</td>\n",
              "      <td>cristophercastell5</td>\n",
              "      <td>Cristopher Castellanos</td>\n",
              "      <td>False</td>\n",
              "      <td>es</td>\n",
              "      <td>NaN</td>\n",
              "      <td>NaN</td>\n",
              "      <td>6595585779418103813</td>\n",
              "      <td>MS4wLjABAAAA_ZjgBAsSdGxZ4NVWoV3iZTWelmkqFygkM-...</td>\n",
              "      <td>https://p16-sign-va.tiktokcdn.com/musically-ma...</td>\n",
              "      <td>US</td>\n",
              "      <td>NaN</td>\n",
              "      <td>NaN</td>\n",
              "      <td>NaN</td>\n",
              "      <td>NaN</td>\n",
              "    </tr>\n",
              "    <tr>\n",
              "      <th>165109</th>\n",
              "      <td>6840892206023950342</td>\n",
              "      <td>@daviddobrik I’m so sorry for the bother i kno...</td>\n",
              "      <td>6831297085137095942</td>\n",
              "      <td>1592769338</td>\n",
              "      <td>7</td>\n",
              "      <td>1</td>\n",
              "      <td>hammyyyyyyy.x</td>\n",
              "      <td>🌴</td>\n",
              "      <td>False</td>\n",
              "      <td>en</td>\n",
              "      <td>venmo: @kiki-xxxx</td>\n",
              "      <td>NaN</td>\n",
              "      <td>6838797400569103366</td>\n",
              "      <td>MS4wLjABAAAAyWXHXgenGB6utXDz2snBw22s5Zn1bzlMgd...</td>\n",
              "      <td>https://p16-sign-va.tiktokcdn.com/musically-ma...</td>\n",
              "      <td>US</td>\n",
              "      <td>NaN</td>\n",
              "      <td>NaN</td>\n",
              "      <td>NaN</td>\n",
              "      <td>NaN</td>\n",
              "    </tr>\n",
              "  </tbody>\n",
              "</table>\n",
              "<p>165110 rows × 20 columns</p>\n",
              "</div>"
            ],
            "text/plain": [
              "                 comment_id  ... author.twitter_id\n",
              "0       6816879848683438085  ...               NaN\n",
              "1       6816846992812015622  ...               NaN\n",
              "2       6816942564911628294  ...               NaN\n",
              "3       6816824764519301125  ...               NaN\n",
              "4       6816821633249001477  ...               NaN\n",
              "...                     ...  ...               ...\n",
              "165105  6831297427954581509  ...               NaN\n",
              "165106  6831297361822711814  ...               NaN\n",
              "165107  6831297275164868613  ...               NaN\n",
              "165108  6842810518533652485  ...               NaN\n",
              "165109  6840892206023950342  ...               NaN\n",
              "\n",
              "[165110 rows x 20 columns]"
            ]
          },
          "metadata": {
            "tags": []
          },
          "execution_count": 88
        }
      ]
    },
    {
      "cell_type": "markdown",
      "metadata": {
        "id": "eEoTLzpRk-FI"
      },
      "source": [
        "Show the Columns"
      ]
    },
    {
      "cell_type": "code",
      "metadata": {
        "colab": {
          "base_uri": "https://localhost:8080/"
        },
        "id": "Ona93fMtjdXV",
        "outputId": "cad8a30e-f2b1-4fe9-bdd1-0c19d95baef1"
      },
      "source": [
        "df.columns"
      ],
      "execution_count": 82,
      "outputs": [
        {
          "output_type": "execute_result",
          "data": {
            "text/plain": [
              "Index(['comment_id', 'text', 'video_id', 'create_time', 'like_count', 'status',\n",
              "       'author.unique_id', 'author.nickname', 'author.is_private',\n",
              "       'author.language', 'author.signature', 'author.custom_verify',\n",
              "       'author.uid', 'author.sec_uid', 'author.avatar_thumb', 'author.region',\n",
              "       'author.ins_id', 'author.youtube_channel_title',\n",
              "       'author.youtube_channel_id', 'author.twitter_id'],\n",
              "      dtype='object')"
            ]
          },
          "metadata": {
            "tags": []
          },
          "execution_count": 82
        }
      ]
    },
    {
      "cell_type": "code",
      "metadata": {
        "id": "9PjtVNNAkEUu"
      },
      "source": [
        "a = df['author.custom_verify'] == 'Verified account'"
      ],
      "execution_count": 95,
      "outputs": []
    }
  ]
}